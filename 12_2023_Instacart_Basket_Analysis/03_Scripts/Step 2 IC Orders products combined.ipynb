{
 "cells": [
  {
   "cell_type": "markdown",
   "id": "f7673b8d",
   "metadata": {},
   "source": [
    "# Project: 12-2023 Instacart Basket Analysis\n",
    "## Author: Nadia Ordonez\n",
    "## Step 2 IC Orders products combined"
   ]
  },
  {
   "cell_type": "markdown",
   "id": "cbcdb603",
   "metadata": {},
   "source": [
    "# Table of Contents\n",
    "* [1. Introduction](#1.-Introduction)\n",
    "* [2. Importing data](#2.-Importing-data)\n",
    "    * [2.1 Importing libraries](#2.1-Importing-libraries)\n",
    "    * [2.2 Importing data](#2.2-Importing-data)\n",
    "* [3. Data combining](#3.-Data-combining)\n",
    "    * [3.1 RAM memory space](#3.1-RAM-memory-space)\n",
    "    * [3.2 Key variable](#3.2-Key-variable)\n",
    "    * [3.3 Merge](#3.3-Merge)\n",
    "* [4. Exporting data](#4.-Exporting-data) "
   ]
  },
  {
   "cell_type": "markdown",
   "id": "09cb1625",
   "metadata": {},
   "source": [
    "# 1. Introduction"
   ]
  },
  {
   "cell_type": "markdown",
   "id": "52e09786",
   "metadata": {},
   "source": [
    "To answer Instacart research question, all dataframes will be combined. First, the Order dataframe will be combined with the Orders products prior. In this way, each order will be enriched to display all shopping items related to each of the 3421083 total orders. "
   ]
  },
  {
   "cell_type": "markdown",
   "id": "28f08d26",
   "metadata": {},
   "source": [
    "# 2. Importing data"
   ]
  },
  {
   "cell_type": "markdown",
   "id": "806c6cb4",
   "metadata": {},
   "source": [
    "## 2.1 Importing libraries"
   ]
  },
  {
   "cell_type": "code",
   "execution_count": 2,
   "id": "bd860302",
   "metadata": {},
   "outputs": [],
   "source": [
    "#Import analytical libraries\n",
    "import pandas as pd\n",
    "import numpy as np\n",
    "import os"
   ]
  },
  {
   "cell_type": "markdown",
   "id": "100286fa",
   "metadata": {},
   "source": [
    "## 2.2 Importing data"
   ]
  },
  {
   "cell_type": "code",
   "execution_count": 3,
   "id": "1e6c249c",
   "metadata": {},
   "outputs": [],
   "source": [
    "#Project folder path into a string to easily retrieve data\n",
    "path = r'C:\\Users\\Ich\\Documents\\12-2023 Instacart Basket Analysis'"
   ]
  },
  {
   "cell_type": "markdown",
   "id": "a73e4f76",
   "metadata": {},
   "source": [
    "### Order"
   ]
  },
  {
   "cell_type": "code",
   "execution_count": 4,
   "id": "18ba291b",
   "metadata": {},
   "outputs": [],
   "source": [
    "#Import “orders_step1.csv”\n",
    "#See \"Step 1 IC Data Import, Wrangling and Consistency checks\" to check for clean up process\n",
    "orders = pd.read_csv(os.path.join(path, '02 Data', 'Prepared data', 'orders_step1.csv'), index_col = False)"
   ]
  },
  {
   "cell_type": "code",
   "execution_count": 5,
   "id": "555b8908",
   "metadata": {},
   "outputs": [
    {
     "data": {
      "text/plain": [
       "(3421083, 6)"
      ]
     },
     "execution_count": 5,
     "metadata": {},
     "output_type": "execute_result"
    }
   ],
   "source": [
    "#Check df size\n",
    "orders.shape"
   ]
  },
  {
   "cell_type": "code",
   "execution_count": 6,
   "id": "1a427098",
   "metadata": {},
   "outputs": [
    {
     "data": {
      "text/html": [
       "<div>\n",
       "<style scoped>\n",
       "    .dataframe tbody tr th:only-of-type {\n",
       "        vertical-align: middle;\n",
       "    }\n",
       "\n",
       "    .dataframe tbody tr th {\n",
       "        vertical-align: top;\n",
       "    }\n",
       "\n",
       "    .dataframe thead th {\n",
       "        text-align: right;\n",
       "    }\n",
       "</style>\n",
       "<table border=\"1\" class=\"dataframe\">\n",
       "  <thead>\n",
       "    <tr style=\"text-align: right;\">\n",
       "      <th></th>\n",
       "      <th>order_id</th>\n",
       "      <th>user_id</th>\n",
       "      <th>order_number</th>\n",
       "      <th>orders_day_of_week</th>\n",
       "      <th>order_hour_of_day</th>\n",
       "      <th>days_since_prior_order</th>\n",
       "    </tr>\n",
       "  </thead>\n",
       "  <tbody>\n",
       "    <tr>\n",
       "      <th>0</th>\n",
       "      <td>2539329</td>\n",
       "      <td>1</td>\n",
       "      <td>1</td>\n",
       "      <td>2</td>\n",
       "      <td>8</td>\n",
       "      <td>NaN</td>\n",
       "    </tr>\n",
       "    <tr>\n",
       "      <th>1</th>\n",
       "      <td>2398795</td>\n",
       "      <td>1</td>\n",
       "      <td>2</td>\n",
       "      <td>3</td>\n",
       "      <td>7</td>\n",
       "      <td>15.0</td>\n",
       "    </tr>\n",
       "    <tr>\n",
       "      <th>2</th>\n",
       "      <td>473747</td>\n",
       "      <td>1</td>\n",
       "      <td>3</td>\n",
       "      <td>3</td>\n",
       "      <td>12</td>\n",
       "      <td>21.0</td>\n",
       "    </tr>\n",
       "    <tr>\n",
       "      <th>3</th>\n",
       "      <td>2254736</td>\n",
       "      <td>1</td>\n",
       "      <td>4</td>\n",
       "      <td>4</td>\n",
       "      <td>7</td>\n",
       "      <td>29.0</td>\n",
       "    </tr>\n",
       "    <tr>\n",
       "      <th>4</th>\n",
       "      <td>431534</td>\n",
       "      <td>1</td>\n",
       "      <td>5</td>\n",
       "      <td>4</td>\n",
       "      <td>15</td>\n",
       "      <td>28.0</td>\n",
       "    </tr>\n",
       "  </tbody>\n",
       "</table>\n",
       "</div>"
      ],
      "text/plain": [
       "   order_id  user_id  order_number  orders_day_of_week  order_hour_of_day  \\\n",
       "0   2539329        1             1                   2                  8   \n",
       "1   2398795        1             2                   3                  7   \n",
       "2    473747        1             3                   3                 12   \n",
       "3   2254736        1             4                   4                  7   \n",
       "4    431534        1             5                   4                 15   \n",
       "\n",
       "   days_since_prior_order  \n",
       "0                     NaN  \n",
       "1                    15.0  \n",
       "2                    21.0  \n",
       "3                    29.0  \n",
       "4                    28.0  "
      ]
     },
     "execution_count": 6,
     "metadata": {},
     "output_type": "execute_result"
    }
   ],
   "source": [
    "#Check headers\n",
    "orders.head()"
   ]
  },
  {
   "cell_type": "markdown",
   "id": "96c48096",
   "metadata": {},
   "source": [
    "### Orders products prior"
   ]
  },
  {
   "cell_type": "code",
   "execution_count": 7,
   "id": "9f892b3d",
   "metadata": {},
   "outputs": [],
   "source": [
    "#Import “orders_products_prior_step1.pkl”\n",
    "#See \"Step 1 IC Data Import, Wrangling and Consistency checks\" to check for clean up process\n",
    "orders_products_prior = pd.read_pickle(os.path.join(path, '02 Data', 'Prepared data', 'orders_products_prior_step1.pkl'))"
   ]
  },
  {
   "cell_type": "code",
   "execution_count": 8,
   "id": "33940f0e",
   "metadata": {},
   "outputs": [
    {
     "data": {
      "text/plain": [
       "(32434489, 4)"
      ]
     },
     "execution_count": 8,
     "metadata": {},
     "output_type": "execute_result"
    }
   ],
   "source": [
    "#Check df size\n",
    "orders_products_prior.shape"
   ]
  },
  {
   "cell_type": "code",
   "execution_count": 9,
   "id": "bc7c44ff",
   "metadata": {},
   "outputs": [
    {
     "data": {
      "text/html": [
       "<div>\n",
       "<style scoped>\n",
       "    .dataframe tbody tr th:only-of-type {\n",
       "        vertical-align: middle;\n",
       "    }\n",
       "\n",
       "    .dataframe tbody tr th {\n",
       "        vertical-align: top;\n",
       "    }\n",
       "\n",
       "    .dataframe thead th {\n",
       "        text-align: right;\n",
       "    }\n",
       "</style>\n",
       "<table border=\"1\" class=\"dataframe\">\n",
       "  <thead>\n",
       "    <tr style=\"text-align: right;\">\n",
       "      <th></th>\n",
       "      <th>order_id</th>\n",
       "      <th>product_id</th>\n",
       "      <th>add_to_cart_sequence</th>\n",
       "      <th>reordered</th>\n",
       "    </tr>\n",
       "  </thead>\n",
       "  <tbody>\n",
       "    <tr>\n",
       "      <th>0</th>\n",
       "      <td>2</td>\n",
       "      <td>33120</td>\n",
       "      <td>1</td>\n",
       "      <td>1</td>\n",
       "    </tr>\n",
       "    <tr>\n",
       "      <th>1</th>\n",
       "      <td>2</td>\n",
       "      <td>28985</td>\n",
       "      <td>2</td>\n",
       "      <td>1</td>\n",
       "    </tr>\n",
       "    <tr>\n",
       "      <th>2</th>\n",
       "      <td>2</td>\n",
       "      <td>9327</td>\n",
       "      <td>3</td>\n",
       "      <td>0</td>\n",
       "    </tr>\n",
       "    <tr>\n",
       "      <th>3</th>\n",
       "      <td>2</td>\n",
       "      <td>45918</td>\n",
       "      <td>4</td>\n",
       "      <td>1</td>\n",
       "    </tr>\n",
       "    <tr>\n",
       "      <th>4</th>\n",
       "      <td>2</td>\n",
       "      <td>30035</td>\n",
       "      <td>5</td>\n",
       "      <td>0</td>\n",
       "    </tr>\n",
       "  </tbody>\n",
       "</table>\n",
       "</div>"
      ],
      "text/plain": [
       "   order_id  product_id  add_to_cart_sequence  reordered\n",
       "0         2       33120                     1          1\n",
       "1         2       28985                     2          1\n",
       "2         2        9327                     3          0\n",
       "3         2       45918                     4          1\n",
       "4         2       30035                     5          0"
      ]
     },
     "execution_count": 9,
     "metadata": {},
     "output_type": "execute_result"
    }
   ],
   "source": [
    "#Check headers\n",
    "orders_products_prior.head()"
   ]
  },
  {
   "cell_type": "markdown",
   "id": "5752afe6",
   "metadata": {},
   "source": [
    "# 3. Data combining"
   ]
  },
  {
   "cell_type": "markdown",
   "id": "5e731c26",
   "metadata": {},
   "source": [
    "## 3.1 RAM memory space"
   ]
  },
  {
   "cell_type": "markdown",
   "id": "1d901aa4",
   "metadata": {},
   "source": [
    "### Orders"
   ]
  },
  {
   "cell_type": "code",
   "execution_count": 10,
   "id": "2658048e",
   "metadata": {},
   "outputs": [
    {
     "data": {
      "text/plain": [
       "order_id                    int64\n",
       "user_id                     int64\n",
       "order_number                int64\n",
       "orders_day_of_week          int64\n",
       "order_hour_of_day           int64\n",
       "days_since_prior_order    float64\n",
       "dtype: object"
      ]
     },
     "execution_count": 10,
     "metadata": {},
     "output_type": "execute_result"
    }
   ],
   "source": [
    "#RAM memory issues can be avoided converting data types \n",
    "#Explore data types in the df\n",
    "orders.dtypes"
   ]
  },
  {
   "cell_type": "code",
   "execution_count": 12,
   "id": "218102d5",
   "metadata": {},
   "outputs": [],
   "source": [
    "#Convert specific columns to more memory-efficient types\n",
    "orders['order_id'] = orders['order_id'].astype('int32')"
   ]
  },
  {
   "cell_type": "code",
   "execution_count": 13,
   "id": "0a4411b5",
   "metadata": {},
   "outputs": [],
   "source": [
    "#Convert specific columns to more memory-efficient types\n",
    "orders['user_id'] = orders['user_id'].astype('int32')"
   ]
  },
  {
   "cell_type": "code",
   "execution_count": 14,
   "id": "79d86c9b",
   "metadata": {},
   "outputs": [],
   "source": [
    "#Convert specific columns to more memory-efficient types\n",
    "orders['order_number'] = orders['order_number'].astype('int8')"
   ]
  },
  {
   "cell_type": "code",
   "execution_count": 15,
   "id": "ba1bfdf7",
   "metadata": {},
   "outputs": [],
   "source": [
    "#Convert specific columns to more memory-efficient types\n",
    "orders['orders_day_of_week'] = orders['orders_day_of_week'].astype('int8')"
   ]
  },
  {
   "cell_type": "code",
   "execution_count": 16,
   "id": "96781232",
   "metadata": {},
   "outputs": [],
   "source": [
    "#Convert specific columns to more memory-efficient types\n",
    "orders['order_hour_of_day'] = orders['order_hour_of_day'].astype('int8')"
   ]
  },
  {
   "cell_type": "code",
   "execution_count": 17,
   "id": "f9c85975",
   "metadata": {},
   "outputs": [
    {
     "data": {
      "text/plain": [
       "order_id                    int32\n",
       "user_id                     int32\n",
       "order_number                 int8\n",
       "orders_day_of_week           int8\n",
       "order_hour_of_day            int8\n",
       "days_since_prior_order    float64\n",
       "dtype: object"
      ]
     },
     "execution_count": 17,
     "metadata": {},
     "output_type": "execute_result"
    }
   ],
   "source": [
    "#See results\n",
    "orders.dtypes"
   ]
  },
  {
   "cell_type": "markdown",
   "id": "a530b35c",
   "metadata": {},
   "source": [
    "### Orders products prior"
   ]
  },
  {
   "cell_type": "code",
   "execution_count": 18,
   "id": "c07ae403",
   "metadata": {},
   "outputs": [
    {
     "data": {
      "text/plain": [
       "order_id                int64\n",
       "product_id              int64\n",
       "add_to_cart_sequence    int64\n",
       "reordered               int64\n",
       "dtype: object"
      ]
     },
     "execution_count": 18,
     "metadata": {},
     "output_type": "execute_result"
    }
   ],
   "source": [
    "#RAM memory issues can be avoided converting data types \n",
    "#Explore data types in the df\n",
    "orders_products_prior.dtypes"
   ]
  },
  {
   "cell_type": "code",
   "execution_count": 19,
   "id": "29b7cc60",
   "metadata": {},
   "outputs": [],
   "source": [
    "#Convert specific columns to more memory-efficient types\n",
    "orders_products_prior['order_id'] = orders_products_prior['order_id'].astype('int32')"
   ]
  },
  {
   "cell_type": "code",
   "execution_count": 20,
   "id": "535e2eec",
   "metadata": {},
   "outputs": [],
   "source": [
    "#Convert specific columns to more memory-efficient types\n",
    "orders_products_prior['product_id'] = orders_products_prior['product_id'].astype('int32')"
   ]
  },
  {
   "cell_type": "code",
   "execution_count": 21,
   "id": "184fac46",
   "metadata": {},
   "outputs": [],
   "source": [
    "#Convert specific columns to more memory-efficient types\n",
    "orders_products_prior['add_to_cart_sequence'] = orders_products_prior['add_to_cart_sequence'].astype('int32')"
   ]
  },
  {
   "cell_type": "code",
   "execution_count": 22,
   "id": "b29b401d",
   "metadata": {},
   "outputs": [],
   "source": [
    "#Convert specific columns to more memory-efficient types\n",
    "orders_products_prior['reordered'] = orders_products_prior['reordered'].astype('int8')"
   ]
  },
  {
   "cell_type": "code",
   "execution_count": 23,
   "id": "6a17a2c0",
   "metadata": {},
   "outputs": [
    {
     "data": {
      "text/plain": [
       "order_id                int32\n",
       "product_id              int32\n",
       "add_to_cart_sequence    int32\n",
       "reordered                int8\n",
       "dtype: object"
      ]
     },
     "execution_count": 23,
     "metadata": {},
     "output_type": "execute_result"
    }
   ],
   "source": [
    "#See results\n",
    "orders_products_prior.dtypes"
   ]
  },
  {
   "cell_type": "markdown",
   "id": "1576a2fd",
   "metadata": {},
   "source": [
    "## 3.2 Key variable"
   ]
  },
  {
   "cell_type": "code",
   "execution_count": 24,
   "id": "e4508711",
   "metadata": {},
   "outputs": [
    {
     "data": {
      "text/plain": [
       "count    3.421083e+06\n",
       "mean     1.710542e+06\n",
       "std      9.875817e+05\n",
       "min      1.000000e+00\n",
       "25%      8.552715e+05\n",
       "50%      1.710542e+06\n",
       "75%      2.565812e+06\n",
       "max      3.421083e+06\n",
       "Name: order_id, dtype: float64"
      ]
     },
     "execution_count": 24,
     "metadata": {},
     "output_type": "execute_result"
    }
   ],
   "source": [
    "#The key variable is \"order_id\". This variable is shared among the two dataframes\n",
    "#An inner join will join the orders that are present on both dataframes\n",
    "#Explore \"order_id\" in Orders\n",
    "orders['order_id'].describe()\n",
    "#Orders range from 1 up to 3421083"
   ]
  },
  {
   "cell_type": "code",
   "execution_count": 25,
   "id": "d79c2613",
   "metadata": {},
   "outputs": [
    {
     "name": "stdout",
     "output_type": "stream",
     "text": [
      "The number of unique values in 'order_id': 3421083\n"
     ]
    }
   ],
   "source": [
    "#Identify the number of unique values in 'order_id' from orders\n",
    "unique_orders = orders['order_id'].nunique()\n",
    "print(f\"The number of unique values in 'order_id': {unique_orders}\")\n",
    "#Each row corresponds to unique values from 1 to 3421083"
   ]
  },
  {
   "cell_type": "code",
   "execution_count": 26,
   "id": "3fa674d6",
   "metadata": {},
   "outputs": [
    {
     "data": {
      "text/plain": [
       "count    3.243449e+07\n",
       "mean     1.710749e+06\n",
       "std      9.873007e+05\n",
       "min      2.000000e+00\n",
       "25%      8.559430e+05\n",
       "50%      1.711048e+06\n",
       "75%      2.565514e+06\n",
       "max      3.421083e+06\n",
       "Name: order_id, dtype: float64"
      ]
     },
     "execution_count": 26,
     "metadata": {},
     "output_type": "execute_result"
    }
   ],
   "source": [
    "#The key variable is \"order_id\". This variable is shared among the two dataframes\n",
    "#An inner join will join the orders that are present on both dataframes\n",
    "#Explore \"order_id\" in Orders products prior\n",
    "orders_products_prior['order_id'].describe()\n",
    "#Orders range from 2 up to 3421083, order_id = 1 is not present.\n",
    "#Each order_id is not unique at each row within \"order_id\" variable. "
   ]
  },
  {
   "cell_type": "code",
   "execution_count": 27,
   "id": "b6d19aef",
   "metadata": {},
   "outputs": [
    {
     "name": "stdout",
     "output_type": "stream",
     "text": [
      "The number of unique values in 'order_id': 3214874\n"
     ]
    }
   ],
   "source": [
    "#Identify the number of unique values in 'order_id' from orders products prior\n",
    "unique_orders_products_prior = orders_products_prior['order_id'].nunique()\n",
    "print(f\"The number of unique values in 'order_id': {unique_orders_products_prior}\")\n",
    "#It would be expected that there is ONLY information on shopping items for 3214874 orders. "
   ]
  },
  {
   "cell_type": "markdown",
   "id": "ed44daf7",
   "metadata": {},
   "source": [
    "## 3.3 Merge"
   ]
  },
  {
   "cell_type": "code",
   "execution_count": 28,
   "id": "6db49d91",
   "metadata": {},
   "outputs": [],
   "source": [
    "#function to merge dataframes\n",
    "orders_products_combined = orders.merge(orders_products_prior, on = 'order_id')"
   ]
  },
  {
   "cell_type": "code",
   "execution_count": 29,
   "id": "582e4ecf",
   "metadata": {},
   "outputs": [
    {
     "data": {
      "text/html": [
       "<div>\n",
       "<style scoped>\n",
       "    .dataframe tbody tr th:only-of-type {\n",
       "        vertical-align: middle;\n",
       "    }\n",
       "\n",
       "    .dataframe tbody tr th {\n",
       "        vertical-align: top;\n",
       "    }\n",
       "\n",
       "    .dataframe thead th {\n",
       "        text-align: right;\n",
       "    }\n",
       "</style>\n",
       "<table border=\"1\" class=\"dataframe\">\n",
       "  <thead>\n",
       "    <tr style=\"text-align: right;\">\n",
       "      <th></th>\n",
       "      <th>order_id</th>\n",
       "      <th>user_id</th>\n",
       "      <th>order_number</th>\n",
       "      <th>orders_day_of_week</th>\n",
       "      <th>order_hour_of_day</th>\n",
       "      <th>days_since_prior_order</th>\n",
       "      <th>product_id</th>\n",
       "      <th>add_to_cart_sequence</th>\n",
       "      <th>reordered</th>\n",
       "    </tr>\n",
       "  </thead>\n",
       "  <tbody>\n",
       "    <tr>\n",
       "      <th>0</th>\n",
       "      <td>2539329</td>\n",
       "      <td>1</td>\n",
       "      <td>1</td>\n",
       "      <td>2</td>\n",
       "      <td>8</td>\n",
       "      <td>NaN</td>\n",
       "      <td>196</td>\n",
       "      <td>1</td>\n",
       "      <td>0</td>\n",
       "    </tr>\n",
       "    <tr>\n",
       "      <th>1</th>\n",
       "      <td>2539329</td>\n",
       "      <td>1</td>\n",
       "      <td>1</td>\n",
       "      <td>2</td>\n",
       "      <td>8</td>\n",
       "      <td>NaN</td>\n",
       "      <td>14084</td>\n",
       "      <td>2</td>\n",
       "      <td>0</td>\n",
       "    </tr>\n",
       "    <tr>\n",
       "      <th>2</th>\n",
       "      <td>2539329</td>\n",
       "      <td>1</td>\n",
       "      <td>1</td>\n",
       "      <td>2</td>\n",
       "      <td>8</td>\n",
       "      <td>NaN</td>\n",
       "      <td>12427</td>\n",
       "      <td>3</td>\n",
       "      <td>0</td>\n",
       "    </tr>\n",
       "    <tr>\n",
       "      <th>3</th>\n",
       "      <td>2539329</td>\n",
       "      <td>1</td>\n",
       "      <td>1</td>\n",
       "      <td>2</td>\n",
       "      <td>8</td>\n",
       "      <td>NaN</td>\n",
       "      <td>26088</td>\n",
       "      <td>4</td>\n",
       "      <td>0</td>\n",
       "    </tr>\n",
       "    <tr>\n",
       "      <th>4</th>\n",
       "      <td>2539329</td>\n",
       "      <td>1</td>\n",
       "      <td>1</td>\n",
       "      <td>2</td>\n",
       "      <td>8</td>\n",
       "      <td>NaN</td>\n",
       "      <td>26405</td>\n",
       "      <td>5</td>\n",
       "      <td>0</td>\n",
       "    </tr>\n",
       "  </tbody>\n",
       "</table>\n",
       "</div>"
      ],
      "text/plain": [
       "   order_id  user_id  order_number  orders_day_of_week  order_hour_of_day  \\\n",
       "0   2539329        1             1                   2                  8   \n",
       "1   2539329        1             1                   2                  8   \n",
       "2   2539329        1             1                   2                  8   \n",
       "3   2539329        1             1                   2                  8   \n",
       "4   2539329        1             1                   2                  8   \n",
       "\n",
       "   days_since_prior_order  product_id  add_to_cart_sequence  reordered  \n",
       "0                     NaN         196                     1          0  \n",
       "1                     NaN       14084                     2          0  \n",
       "2                     NaN       12427                     3          0  \n",
       "3                     NaN       26088                     4          0  \n",
       "4                     NaN       26405                     5          0  "
      ]
     },
     "execution_count": 29,
     "metadata": {},
     "output_type": "execute_result"
    }
   ],
   "source": [
    "#See results\n",
    "orders_products_combined.head()"
   ]
  },
  {
   "cell_type": "code",
   "execution_count": 30,
   "id": "fea5420b",
   "metadata": {},
   "outputs": [
    {
     "name": "stdout",
     "output_type": "stream",
     "text": [
      "The number of unique values in 'order_id': 3214874\n"
     ]
    }
   ],
   "source": [
    "#Identify the number of unique values in 'order_id' from merged dataframe\n",
    "unique_orders_products_combined = orders_products_combined['order_id'].nunique()\n",
    "print(f\"The number of unique values in 'order_id': {unique_orders_products_combined}\")\n",
    "#As expected from the previous analyses on the key variable, there is ONLY information on shopping items for 3214874 orders. "
   ]
  },
  {
   "cell_type": "markdown",
   "id": "98393134",
   "metadata": {},
   "source": [
    "# 4. Exporting data"
   ]
  },
  {
   "cell_type": "code",
   "execution_count": 31,
   "id": "7965f1d3",
   "metadata": {},
   "outputs": [
    {
     "data": {
      "text/plain": [
       "(32434489, 9)"
      ]
     },
     "execution_count": 31,
     "metadata": {},
     "output_type": "execute_result"
    }
   ],
   "source": [
    "#check df size\n",
    "orders_products_combined.shape"
   ]
  },
  {
   "cell_type": "code",
   "execution_count": 32,
   "id": "aecbc59d",
   "metadata": {},
   "outputs": [
    {
     "data": {
      "text/html": [
       "<div>\n",
       "<style scoped>\n",
       "    .dataframe tbody tr th:only-of-type {\n",
       "        vertical-align: middle;\n",
       "    }\n",
       "\n",
       "    .dataframe tbody tr th {\n",
       "        vertical-align: top;\n",
       "    }\n",
       "\n",
       "    .dataframe thead th {\n",
       "        text-align: right;\n",
       "    }\n",
       "</style>\n",
       "<table border=\"1\" class=\"dataframe\">\n",
       "  <thead>\n",
       "    <tr style=\"text-align: right;\">\n",
       "      <th></th>\n",
       "      <th>order_id</th>\n",
       "      <th>user_id</th>\n",
       "      <th>order_number</th>\n",
       "      <th>orders_day_of_week</th>\n",
       "      <th>order_hour_of_day</th>\n",
       "      <th>days_since_prior_order</th>\n",
       "      <th>product_id</th>\n",
       "      <th>add_to_cart_sequence</th>\n",
       "      <th>reordered</th>\n",
       "    </tr>\n",
       "  </thead>\n",
       "  <tbody>\n",
       "    <tr>\n",
       "      <th>0</th>\n",
       "      <td>2539329</td>\n",
       "      <td>1</td>\n",
       "      <td>1</td>\n",
       "      <td>2</td>\n",
       "      <td>8</td>\n",
       "      <td>NaN</td>\n",
       "      <td>196</td>\n",
       "      <td>1</td>\n",
       "      <td>0</td>\n",
       "    </tr>\n",
       "    <tr>\n",
       "      <th>1</th>\n",
       "      <td>2539329</td>\n",
       "      <td>1</td>\n",
       "      <td>1</td>\n",
       "      <td>2</td>\n",
       "      <td>8</td>\n",
       "      <td>NaN</td>\n",
       "      <td>14084</td>\n",
       "      <td>2</td>\n",
       "      <td>0</td>\n",
       "    </tr>\n",
       "    <tr>\n",
       "      <th>2</th>\n",
       "      <td>2539329</td>\n",
       "      <td>1</td>\n",
       "      <td>1</td>\n",
       "      <td>2</td>\n",
       "      <td>8</td>\n",
       "      <td>NaN</td>\n",
       "      <td>12427</td>\n",
       "      <td>3</td>\n",
       "      <td>0</td>\n",
       "    </tr>\n",
       "    <tr>\n",
       "      <th>3</th>\n",
       "      <td>2539329</td>\n",
       "      <td>1</td>\n",
       "      <td>1</td>\n",
       "      <td>2</td>\n",
       "      <td>8</td>\n",
       "      <td>NaN</td>\n",
       "      <td>26088</td>\n",
       "      <td>4</td>\n",
       "      <td>0</td>\n",
       "    </tr>\n",
       "    <tr>\n",
       "      <th>4</th>\n",
       "      <td>2539329</td>\n",
       "      <td>1</td>\n",
       "      <td>1</td>\n",
       "      <td>2</td>\n",
       "      <td>8</td>\n",
       "      <td>NaN</td>\n",
       "      <td>26405</td>\n",
       "      <td>5</td>\n",
       "      <td>0</td>\n",
       "    </tr>\n",
       "  </tbody>\n",
       "</table>\n",
       "</div>"
      ],
      "text/plain": [
       "   order_id  user_id  order_number  orders_day_of_week  order_hour_of_day  \\\n",
       "0   2539329        1             1                   2                  8   \n",
       "1   2539329        1             1                   2                  8   \n",
       "2   2539329        1             1                   2                  8   \n",
       "3   2539329        1             1                   2                  8   \n",
       "4   2539329        1             1                   2                  8   \n",
       "\n",
       "   days_since_prior_order  product_id  add_to_cart_sequence  reordered  \n",
       "0                     NaN         196                     1          0  \n",
       "1                     NaN       14084                     2          0  \n",
       "2                     NaN       12427                     3          0  \n",
       "3                     NaN       26088                     4          0  \n",
       "4                     NaN       26405                     5          0  "
      ]
     },
     "execution_count": 32,
     "metadata": {},
     "output_type": "execute_result"
    }
   ],
   "source": [
    "#check df headers\n",
    "orders_products_combined.head()"
   ]
  },
  {
   "cell_type": "code",
   "execution_count": 33,
   "id": "1e08b78d",
   "metadata": {},
   "outputs": [],
   "source": [
    "#Exporting to prepared data folder\n",
    "#The pickle format is preferred for large df. This df contains 32M rows\n",
    "orders_products_combined.to_pickle(os.path.join(path, '02 Data','Prepared data', 'orders_products_combined_step2.pkl'))"
   ]
  }
 ],
 "metadata": {
  "kernelspec": {
   "display_name": "Python 3 (ipykernel)",
   "language": "python",
   "name": "python3"
  },
  "language_info": {
   "codemirror_mode": {
    "name": "ipython",
    "version": 3
   },
   "file_extension": ".py",
   "mimetype": "text/x-python",
   "name": "python",
   "nbconvert_exporter": "python",
   "pygments_lexer": "ipython3",
   "version": "3.11.4"
  }
 },
 "nbformat": 4,
 "nbformat_minor": 5
}
